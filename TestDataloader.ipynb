{
 "cells": [
  {
   "cell_type": "markdown",
   "metadata": {},
   "source": [
    "<center>\n",
    "    <p align=\"center\">\n",
    "        <img src=\"Resources/segmented-1.png\" width=\"250\" \\>\n",
    "        <img src=\"Resources/video-2.gif\" width=\"300\" \\>\n",
    "        <img src=\"Resources/segmented-2.png\" width=\"250\" \\>\n",
    "    </p>\n",
    "\n",
    "</center>"
   ]
  },
  {
   "cell_type": "markdown",
   "metadata": {},
   "source": [
    "Import the required modules. The lastSTRAW module was created specifically for examining 3D point cloud data.\n",
    "\n",
    "[Open3D](https://www.open3d.org/) is used to visualise the data in an interactive window.\n",
    "\n",
    "[Numpy](https://numpy.org/doc/stable/) is used for arrays.\n"
   ]
  },
  {
   "cell_type": "code",
   "execution_count": 8,
   "metadata": {},
   "outputs": [],
   "source": [
    "%%capture\n",
    "%pip install open3d\n",
    "%pip install numpy"
   ]
  },
  {
   "cell_type": "code",
   "execution_count": 9,
   "metadata": {},
   "outputs": [],
   "source": [
    "from LastSTRAW import LastStrawData\n",
    "import open3d as o3d\n",
    "import numpy as np"
   ]
  },
  {
   "cell_type": "markdown",
   "metadata": {},
   "source": [
    "Setup global variables to say either where the point cloud data files are, or download a zip and extract the files into a folder"
   ]
  },
  {
   "cell_type": "code",
   "execution_count": 10,
   "metadata": {},
   "outputs": [],
   "source": [
    "# Global setup\n",
    "\n",
    "# URL to download the LastSTRAW dataset\n",
    "URL = \"https://lcas.lincoln.ac.uk/nextcloud/index.php/s/omQY9ciP3Wr43GH/download\"\n",
    "# Folder to download to (must exist already)\n",
    "FOLDER = \"/tmp/\"\n",
    "# Folder created when extracting data (checked to see if extraction is required)\n",
    "CHECK_FOLDER = \"LAST-Straw/\"\n",
    "# Filename to save as \n",
    "DOWNLOAD_FILE = \"download.zip\"\n",
    "# Default is 0 for no down sampling otherwise down sample to this voxel size\n",
    "VOXEL_SIZE = 0\n",
    "# If this is a path then use this to point to data files - if not None no downloading\n",
    "#DATA_DIR = None\n",
    "DATA_DIR = '/home/andy/Documents/CDT summer school/LastSTRAW-Test/Resources/TestData/'"
   ]
  },
  {
   "cell_type": "markdown",
   "metadata": {},
   "source": [
    "Lines 5 thru 11 setup the lastStraw object [LastSTRAW](./LastSTRAW.py)\n",
    "\n",
    "Line 14 gets the **13th** (indexed from 0) datafile and returns 3 arrays representing the [[x,y,z]] coordinates of the voxel with RGB colour [[r,g,b]] and the labels [[class, instance]] (ground truth class and instance) as well as the fileName as a string. "
   ]
  },
  {
   "cell_type": "code",
   "execution_count": 11,
   "metadata": {},
   "outputs": [],
   "source": [
    "def main():\n",
    "\n",
    "    '''Example usage of LastStrawData importer'''\n",
    "\n",
    "    lastStraw = LastStrawData(DATA_DIR,\n",
    "                                data_dir = DATA_DIR,\n",
    "                                down_sample = VOXEL_SIZE,\n",
    "                                url = URL,\n",
    "                                folder = FOLDER,\n",
    "                                check_folder = CHECK_FOLDER,\n",
    "                                download_file = DOWNLOAD_FILE)\n",
    "    \n",
    "    # Example of a 3D Strawberry scan in raw data\n",
    "    pc, rgb, labels, fileName = lastStraw[12]\n",
    "    \n",
    "    # Visualise\n",
    "    lastStraw.visualise(12)\n",
    "    \n",
    "    # Load each scan and segment by class\n",
    "    for i, (pc, rgb, labels, _) in enumerate(lastStraw):\n",
    "        if i != 12: continue\n",
    "        pointC = o3d.geometry.PointCloud()\n",
    "        pointC.points = o3d.utility.Vector3dVector(pc)\n",
    "        pointC.colors = o3d.utility.Vector3dVector(rgb)\n",
    "\n",
    "        # Filter to show only leaves\n",
    "        lastStraw.setFilter(set_class=1)\n",
    "        lastStraw.visualise(pointC, labels)\n",
    "\n",
    "        # Filter to show all classes bar background\n",
    "        lastStraw.setFilter(background = 6)\n",
    "        lastStraw.visualise(pointC, labels)\n",
    "\n"
   ]
  },
  {
   "cell_type": "code",
   "execution_count": 12,
   "metadata": {},
   "outputs": [],
   "source": [
    "if __name__ == '__main__':\n",
    "    main()"
   ]
  }
 ],
 "metadata": {
  "kernelspec": {
   "display_name": "phd",
   "language": "python",
   "name": "phd"
  },
  "language_info": {
   "codemirror_mode": {
    "name": "ipython",
    "version": 3
   },
   "file_extension": ".py",
   "mimetype": "text/x-python",
   "name": "python",
   "nbconvert_exporter": "python",
   "pygments_lexer": "ipython3",
   "version": "3.11.6"
  }
 },
 "nbformat": 4,
 "nbformat_minor": 2
}
